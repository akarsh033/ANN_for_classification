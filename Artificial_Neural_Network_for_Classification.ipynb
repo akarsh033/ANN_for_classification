{
  "nbformat": 4,
  "nbformat_minor": 0,
  "metadata": {
    "colab": {
      "name": "Copy of artificial_neural_network.ipynb",
      "provenance": [],
      "collapsed_sections": []
    },
    "kernelspec": {
      "name": "python3",
      "display_name": "Python 3"
    }
  },
  "cells": [
    {
      "cell_type": "markdown",
      "metadata": {
        "id": "lP6JLo1tGNBg"
      },
      "source": [
        "# Artificial Neural Network"
      ]
    },
    {
      "cell_type": "markdown",
      "metadata": {
        "id": "gWZyYmS_UE_L"
      },
      "source": [
        "### Importing the libraries"
      ]
    },
    {
      "cell_type": "code",
      "metadata": {
        "id": "V7KR6mytHqBD"
      },
      "source": [
        "#Google Colab already comes installed with tensorflow but we must import it\r\n",
        "import tensorflow as tf\r\n",
        "import numpy as np\r\n",
        "import matplotlib.pyplot as plt\r\n",
        "import pandas as pd"
      ],
      "execution_count": null,
      "outputs": []
    },
    {
      "cell_type": "code",
      "metadata": {
        "colab": {
          "base_uri": "https://localhost:8080/",
          "height": 36
        },
        "id": "UE-0T-egIkVS",
        "outputId": "dcc8c622-da23-438b-a046-f301d3ed1fe8"
      },
      "source": [
        "#To check if tensorflow library is loaded\r\n",
        "tf.__version__"
      ],
      "execution_count": null,
      "outputs": [
        {
          "output_type": "execute_result",
          "data": {
            "application/vnd.google.colaboratory.intrinsic+json": {
              "type": "string"
            },
            "text/plain": [
              "'2.4.1'"
            ]
          },
          "metadata": {
            "tags": []
          },
          "execution_count": 56
        }
      ]
    },
    {
      "cell_type": "markdown",
      "metadata": {
        "id": "1E0Q3aoKUCRX"
      },
      "source": [
        "## Part 1 - Data Preprocessing"
      ]
    },
    {
      "cell_type": "markdown",
      "metadata": {
        "id": "cKWAkFVGUU0Z"
      },
      "source": [
        "### Importing the dataset"
      ]
    },
    {
      "cell_type": "code",
      "metadata": {
        "id": "x23fKyylJrGc"
      },
      "source": [
        "dataset=pd.read_csv('Churn_Modelling.csv')\r\n",
        "#Removing the unwanted columns.Same operation can done using drop() method.\r\n",
        "X=dataset.iloc[:,3:-1].values\r\n",
        "Y=dataset.iloc[:,-1].values"
      ],
      "execution_count": null,
      "outputs": []
    },
    {
      "cell_type": "code",
      "metadata": {
        "id": "VYP9cQTWbzuI",
        "colab": {
          "base_uri": "https://localhost:8080/"
        },
        "outputId": "2dbc4b24-5047-46b5-aa9a-625f3a4483bb"
      },
      "source": [
        "#Displaying the Features or X\r\n",
        "print(X)"
      ],
      "execution_count": null,
      "outputs": [
        {
          "output_type": "stream",
          "text": [
            "[[619 'France' 'Female' ... 1 1 101348.88]\n",
            " [608 'Spain' 'Female' ... 0 1 112542.58]\n",
            " [502 'France' 'Female' ... 1 0 113931.57]\n",
            " ...\n",
            " [709 'France' 'Female' ... 0 1 42085.58]\n",
            " [772 'Germany' 'Male' ... 1 0 92888.52]\n",
            " [792 'France' 'Female' ... 1 0 38190.78]]\n"
          ],
          "name": "stdout"
        }
      ]
    },
    {
      "cell_type": "code",
      "metadata": {
        "id": "38vKGE6Nb2RR",
        "colab": {
          "base_uri": "https://localhost:8080/"
        },
        "outputId": "e7c71a7a-4b17-44fa-c4e5-7c1ccbf612c3"
      },
      "source": [
        "#Displaying the target label or Y\r\n",
        "print(y)"
      ],
      "execution_count": null,
      "outputs": [
        {
          "output_type": "stream",
          "text": [
            "[1 0 1 ... 1 1 0]\n"
          ],
          "name": "stdout"
        }
      ]
    },
    {
      "cell_type": "markdown",
      "metadata": {
        "id": "N6bQ0UgSU-NJ"
      },
      "source": [
        "### Encoding categorical data"
      ]
    },
    {
      "cell_type": "code",
      "metadata": {
        "id": "isS4ytAAK0AT"
      },
      "source": [
        "from sklearn.preprocessing import LabelEncoder\r\n",
        "#Using LabelEncoder() for gender as it has 2 categories\r\n",
        "le=LabelEncoder()\r\n",
        "X[:,2]=le.fit_transform(X[:,2])"
      ],
      "execution_count": null,
      "outputs": []
    },
    {
      "cell_type": "markdown",
      "metadata": {
        "id": "le5MJreAbW52"
      },
      "source": [
        "Label Encoding the \"Gender\" column"
      ]
    },
    {
      "cell_type": "code",
      "metadata": {
        "id": "-M1KboxFb6OO",
        "colab": {
          "base_uri": "https://localhost:8080/"
        },
        "outputId": "0606cb08-efd7-4268-9b43-bb99fd8c1b62"
      },
      "source": [
        "print(X[1])"
      ],
      "execution_count": null,
      "outputs": [
        {
          "output_type": "stream",
          "text": [
            "[608 'Spain' 0 41 1 83807.86 1 0 1 112542.58]\n"
          ],
          "name": "stdout"
        }
      ]
    },
    {
      "cell_type": "markdown",
      "metadata": {
        "id": "CUxGZezpbMcb"
      },
      "source": [
        "One Hot Encoding the \"Geography\" column"
      ]
    },
    {
      "cell_type": "code",
      "metadata": {
        "id": "GtQkC96nLlXw"
      },
      "source": [
        "from sklearn.compose import ColumnTransformer\r\n",
        "from sklearn.preprocessing import OneHotEncoder\r\n",
        "#Using OneHotEncoder() for country as it has more than 2 categories\r\n",
        "ct=ColumnTransformer(transformers=[('encoder',OneHotEncoder(),[1])],remainder='passthrough')\r\n",
        "X=np.array(ct.fit_transform(X))"
      ],
      "execution_count": null,
      "outputs": []
    },
    {
      "cell_type": "code",
      "metadata": {
        "id": "ZcxwEon-b8nV",
        "colab": {
          "base_uri": "https://localhost:8080/"
        },
        "outputId": "84004dba-4ab4-4863-e52f-96dcfb522a6f"
      },
      "source": [
        "print(X[1])"
      ],
      "execution_count": null,
      "outputs": [
        {
          "output_type": "stream",
          "text": [
            "[0.0 0.0 1.0 608 0 41 1 83807.86 1 0 1 112542.58]\n"
          ],
          "name": "stdout"
        }
      ]
    },
    {
      "cell_type": "markdown",
      "metadata": {
        "id": "vHol938cW8zd"
      },
      "source": [
        "### Splitting the dataset into the Training set and Test set"
      ]
    },
    {
      "cell_type": "code",
      "metadata": {
        "id": "4CS40S4fN47K"
      },
      "source": [
        "from sklearn.model_selection import train_test_split\r\n",
        "#Splitiing the train and test data using sklearn library predefined method train_test_split()\r\n",
        "x_train,x_test,y_train,y_test=train_test_split(X,Y,test_size=0.2,random_state=0)"
      ],
      "execution_count": null,
      "outputs": []
    },
    {
      "cell_type": "markdown",
      "metadata": {
        "id": "RE_FcHyfV3TQ"
      },
      "source": [
        "### Feature Scaling"
      ]
    },
    {
      "cell_type": "code",
      "metadata": {
        "id": "XLwmXDeeQVmr"
      },
      "source": [
        "from sklearn.preprocessing import StandardScaler\r\n",
        "#1.Scaling the x_train and x_test data.\r\n",
        "#2.fit_transform must be used first while scaling to fit the appropriate data and then transform() can be used to compute based on the same fitted data\r\n",
        "sc=StandardScaler()\r\n",
        "x_train=sc.fit_transform(x_train)\r\n",
        "x_test=sc.transform(x_test)"
      ],
      "execution_count": null,
      "outputs": []
    },
    {
      "cell_type": "markdown",
      "metadata": {
        "id": "-zfEzkRVXIwF"
      },
      "source": [
        "## Part 2 - Building the ANN"
      ]
    },
    {
      "cell_type": "markdown",
      "metadata": {
        "id": "KvdeScabXtlB"
      },
      "source": [
        "### Initializing the ANN"
      ]
    },
    {
      "cell_type": "code",
      "metadata": {
        "id": "JovDEfJTS0EE"
      },
      "source": [
        "#creating the instance of the artificial neural network using keras.Sequential()\r\n",
        "ann=tf.keras.models.Sequential()"
      ],
      "execution_count": null,
      "outputs": []
    },
    {
      "cell_type": "markdown",
      "metadata": {
        "id": "rP6urV6SX7kS"
      },
      "source": [
        "### Adding the input layer and the first hidden layer"
      ]
    },
    {
      "cell_type": "code",
      "metadata": {
        "id": "5MHpoJYcTgJE"
      },
      "source": [
        "#Creating the input layer and first hidden layer of the Aritificial Neural Network\r\n",
        "#units : Number of neurons in the layer, 6 neurons are created here\r\n",
        "#activation : activation function used , 'relu' --> rectifier function\r\n",
        "ann.add(tf.keras.layers.Dense(units=6, activation='relu')) "
      ],
      "execution_count": null,
      "outputs": []
    },
    {
      "cell_type": "markdown",
      "metadata": {
        "id": "BELWAc_8YJze"
      },
      "source": [
        "### Adding the second hidden layer"
      ]
    },
    {
      "cell_type": "code",
      "metadata": {
        "id": "Vzu_38C0V9i9"
      },
      "source": [
        "ann.add(tf.keras.layers.Dense(units=6, activation='relu')) "
      ],
      "execution_count": null,
      "outputs": []
    },
    {
      "cell_type": "markdown",
      "metadata": {
        "id": "OyNEe6RXYcU4"
      },
      "source": [
        "### Adding the output layer"
      ]
    },
    {
      "cell_type": "code",
      "metadata": {
        "id": "T9Ju2DxoV-iX"
      },
      "source": [
        "#'sigmoid' activation function is used as it gives the probability also\r\n",
        "ann.add(tf.keras.layers.Dense(units=1, activation='sigmoid')) "
      ],
      "execution_count": null,
      "outputs": []
    },
    {
      "cell_type": "markdown",
      "metadata": {
        "id": "JT4u2S1_Y4WG"
      },
      "source": [
        "## Part 3 - Training the ANN"
      ]
    },
    {
      "cell_type": "markdown",
      "metadata": {
        "id": "8GWlJChhY_ZI"
      },
      "source": [
        "### Compiling the ANN"
      ]
    },
    {
      "cell_type": "code",
      "metadata": {
        "id": "TxsJpzhDWyCp"
      },
      "source": [
        "#optimizer: function used to optimise the NN using backpropogation, 'adam' refers to stochiastic gradient descent\r\n",
        "#loss: function used to calculate loss function, 'binary_crossentropy' is used as there are only 2 possible outcomes \r\n",
        "ann.compile(optimizer='adam',loss='binary_crossentropy',metrics=['accuracy'])"
      ],
      "execution_count": null,
      "outputs": []
    },
    {
      "cell_type": "markdown",
      "metadata": {
        "id": "0QR_G5u7ZLSM"
      },
      "source": [
        "### Training the ANN on the Training set"
      ]
    },
    {
      "cell_type": "code",
      "metadata": {
        "colab": {
          "base_uri": "https://localhost:8080/"
        },
        "id": "hxPIioZxYHPf",
        "outputId": "e38a1ea6-7254-4785-9c2f-529de8f1ddc7"
      },
      "source": [
        "#batch_size: Number of rows that should be taken as a batch to compute and optimise the neural network\r\n",
        "#epochs: Number of cycles(going through entire train dataset) the model should undergo\r\n",
        "ann.fit(x_train,y_train,batch_size=32,epochs=111)"
      ],
      "execution_count": null,
      "outputs": [
        {
          "output_type": "stream",
          "text": [
            "Epoch 1/111\n",
            "250/250 [==============================] - 1s 999us/step - loss: 0.6918 - accuracy: 0.5494\n",
            "Epoch 2/111\n",
            "250/250 [==============================] - 0s 1ms/step - loss: 0.4941 - accuracy: 0.7984\n",
            "Epoch 3/111\n",
            "250/250 [==============================] - 0s 1ms/step - loss: 0.4448 - accuracy: 0.8132\n",
            "Epoch 4/111\n",
            "250/250 [==============================] - 0s 989us/step - loss: 0.4288 - accuracy: 0.8171\n",
            "Epoch 5/111\n",
            "250/250 [==============================] - 0s 1ms/step - loss: 0.4332 - accuracy: 0.8140\n",
            "Epoch 6/111\n",
            "250/250 [==============================] - 0s 1ms/step - loss: 0.4075 - accuracy: 0.8177\n",
            "Epoch 7/111\n",
            "250/250 [==============================] - 0s 1ms/step - loss: 0.3993 - accuracy: 0.8309\n",
            "Epoch 8/111\n",
            "250/250 [==============================] - 0s 1ms/step - loss: 0.3901 - accuracy: 0.8363\n",
            "Epoch 9/111\n",
            "250/250 [==============================] - 0s 1ms/step - loss: 0.4011 - accuracy: 0.8264\n",
            "Epoch 10/111\n",
            "250/250 [==============================] - 0s 1ms/step - loss: 0.3924 - accuracy: 0.8302\n",
            "Epoch 11/111\n",
            "250/250 [==============================] - 0s 1ms/step - loss: 0.3749 - accuracy: 0.8312\n",
            "Epoch 12/111\n",
            "250/250 [==============================] - 0s 1ms/step - loss: 0.3748 - accuracy: 0.8352\n",
            "Epoch 13/111\n",
            "250/250 [==============================] - 0s 1ms/step - loss: 0.3661 - accuracy: 0.8391\n",
            "Epoch 14/111\n",
            "250/250 [==============================] - 0s 1ms/step - loss: 0.3824 - accuracy: 0.8419\n",
            "Epoch 15/111\n",
            "250/250 [==============================] - 0s 1ms/step - loss: 0.3585 - accuracy: 0.8526\n",
            "Epoch 16/111\n",
            "250/250 [==============================] - 0s 1ms/step - loss: 0.3462 - accuracy: 0.8615\n",
            "Epoch 17/111\n",
            "250/250 [==============================] - 0s 1ms/step - loss: 0.3514 - accuracy: 0.8596\n",
            "Epoch 18/111\n",
            "250/250 [==============================] - 0s 1ms/step - loss: 0.3400 - accuracy: 0.8629\n",
            "Epoch 19/111\n",
            "250/250 [==============================] - 0s 1ms/step - loss: 0.3412 - accuracy: 0.8650\n",
            "Epoch 20/111\n",
            "250/250 [==============================] - 0s 1ms/step - loss: 0.3522 - accuracy: 0.8544\n",
            "Epoch 21/111\n",
            "250/250 [==============================] - 0s 1ms/step - loss: 0.3467 - accuracy: 0.8613\n",
            "Epoch 22/111\n",
            "250/250 [==============================] - 0s 1ms/step - loss: 0.3373 - accuracy: 0.8657\n",
            "Epoch 23/111\n",
            "250/250 [==============================] - 0s 1ms/step - loss: 0.3384 - accuracy: 0.8637\n",
            "Epoch 24/111\n",
            "250/250 [==============================] - 0s 1ms/step - loss: 0.3449 - accuracy: 0.8624\n",
            "Epoch 25/111\n",
            "250/250 [==============================] - 0s 1ms/step - loss: 0.3380 - accuracy: 0.8658\n",
            "Epoch 26/111\n",
            "250/250 [==============================] - 0s 1ms/step - loss: 0.3467 - accuracy: 0.8573\n",
            "Epoch 27/111\n",
            "250/250 [==============================] - 0s 1ms/step - loss: 0.3268 - accuracy: 0.8682\n",
            "Epoch 28/111\n",
            "250/250 [==============================] - 0s 1ms/step - loss: 0.3469 - accuracy: 0.8581\n",
            "Epoch 29/111\n",
            "250/250 [==============================] - 0s 1ms/step - loss: 0.3340 - accuracy: 0.8665\n",
            "Epoch 30/111\n",
            "250/250 [==============================] - 0s 1ms/step - loss: 0.3390 - accuracy: 0.8595\n",
            "Epoch 31/111\n",
            "250/250 [==============================] - 0s 1ms/step - loss: 0.3415 - accuracy: 0.8599\n",
            "Epoch 32/111\n",
            "250/250 [==============================] - 0s 1ms/step - loss: 0.3319 - accuracy: 0.8669\n",
            "Epoch 33/111\n",
            "250/250 [==============================] - 0s 1ms/step - loss: 0.3396 - accuracy: 0.8630\n",
            "Epoch 34/111\n",
            "250/250 [==============================] - 0s 1ms/step - loss: 0.3338 - accuracy: 0.8683\n",
            "Epoch 35/111\n",
            "250/250 [==============================] - 0s 1ms/step - loss: 0.3344 - accuracy: 0.8636\n",
            "Epoch 36/111\n",
            "250/250 [==============================] - 0s 1ms/step - loss: 0.3460 - accuracy: 0.8567\n",
            "Epoch 37/111\n",
            "250/250 [==============================] - 0s 1ms/step - loss: 0.3288 - accuracy: 0.8669\n",
            "Epoch 38/111\n",
            "250/250 [==============================] - 0s 1ms/step - loss: 0.3319 - accuracy: 0.8629\n",
            "Epoch 39/111\n",
            "250/250 [==============================] - 0s 1ms/step - loss: 0.3231 - accuracy: 0.8715\n",
            "Epoch 40/111\n",
            "250/250 [==============================] - 0s 1ms/step - loss: 0.3409 - accuracy: 0.8624\n",
            "Epoch 41/111\n",
            "250/250 [==============================] - 0s 1ms/step - loss: 0.3430 - accuracy: 0.8602\n",
            "Epoch 42/111\n",
            "250/250 [==============================] - 0s 1ms/step - loss: 0.3300 - accuracy: 0.8689\n",
            "Epoch 43/111\n",
            "250/250 [==============================] - 0s 1ms/step - loss: 0.3337 - accuracy: 0.8687\n",
            "Epoch 44/111\n",
            "250/250 [==============================] - 0s 1ms/step - loss: 0.3316 - accuracy: 0.8711\n",
            "Epoch 45/111\n",
            "250/250 [==============================] - 0s 1ms/step - loss: 0.3377 - accuracy: 0.8619\n",
            "Epoch 46/111\n",
            "250/250 [==============================] - 0s 1ms/step - loss: 0.3276 - accuracy: 0.8658\n",
            "Epoch 47/111\n",
            "250/250 [==============================] - 0s 1ms/step - loss: 0.3248 - accuracy: 0.8702\n",
            "Epoch 48/111\n",
            "250/250 [==============================] - 0s 1ms/step - loss: 0.3356 - accuracy: 0.8659\n",
            "Epoch 49/111\n",
            "250/250 [==============================] - 0s 1ms/step - loss: 0.3284 - accuracy: 0.8637\n",
            "Epoch 50/111\n",
            "250/250 [==============================] - 0s 1ms/step - loss: 0.3346 - accuracy: 0.8649\n",
            "Epoch 51/111\n",
            "250/250 [==============================] - 0s 1ms/step - loss: 0.3389 - accuracy: 0.8627\n",
            "Epoch 52/111\n",
            "250/250 [==============================] - 0s 1ms/step - loss: 0.3393 - accuracy: 0.8636\n",
            "Epoch 53/111\n",
            "250/250 [==============================] - 0s 1ms/step - loss: 0.3347 - accuracy: 0.8661\n",
            "Epoch 54/111\n",
            "250/250 [==============================] - 0s 1ms/step - loss: 0.3335 - accuracy: 0.8629\n",
            "Epoch 55/111\n",
            "250/250 [==============================] - 0s 1ms/step - loss: 0.3259 - accuracy: 0.8723\n",
            "Epoch 56/111\n",
            "250/250 [==============================] - 0s 1ms/step - loss: 0.3405 - accuracy: 0.8602\n",
            "Epoch 57/111\n",
            "250/250 [==============================] - 0s 1ms/step - loss: 0.3372 - accuracy: 0.8632\n",
            "Epoch 58/111\n",
            "250/250 [==============================] - 0s 1ms/step - loss: 0.3222 - accuracy: 0.8679\n",
            "Epoch 59/111\n",
            "250/250 [==============================] - 0s 1ms/step - loss: 0.3358 - accuracy: 0.8613\n",
            "Epoch 60/111\n",
            "250/250 [==============================] - 0s 1ms/step - loss: 0.3392 - accuracy: 0.8605\n",
            "Epoch 61/111\n",
            "250/250 [==============================] - 0s 1ms/step - loss: 0.3276 - accuracy: 0.8678\n",
            "Epoch 62/111\n",
            "250/250 [==============================] - 0s 1ms/step - loss: 0.3410 - accuracy: 0.8612\n",
            "Epoch 63/111\n",
            "250/250 [==============================] - 0s 1ms/step - loss: 0.3510 - accuracy: 0.8554\n",
            "Epoch 64/111\n",
            "250/250 [==============================] - 0s 1ms/step - loss: 0.3388 - accuracy: 0.8617\n",
            "Epoch 65/111\n",
            "250/250 [==============================] - 0s 1ms/step - loss: 0.3331 - accuracy: 0.8659\n",
            "Epoch 66/111\n",
            "250/250 [==============================] - 0s 1ms/step - loss: 0.3418 - accuracy: 0.8614\n",
            "Epoch 67/111\n",
            "250/250 [==============================] - 0s 1ms/step - loss: 0.3378 - accuracy: 0.8640\n",
            "Epoch 68/111\n",
            "250/250 [==============================] - 0s 1ms/step - loss: 0.3313 - accuracy: 0.8625\n",
            "Epoch 69/111\n",
            "250/250 [==============================] - 0s 1ms/step - loss: 0.3277 - accuracy: 0.8673\n",
            "Epoch 70/111\n",
            "250/250 [==============================] - 0s 1ms/step - loss: 0.3226 - accuracy: 0.8686\n",
            "Epoch 71/111\n",
            "250/250 [==============================] - 0s 1ms/step - loss: 0.3457 - accuracy: 0.8577\n",
            "Epoch 72/111\n",
            "250/250 [==============================] - 0s 1ms/step - loss: 0.3284 - accuracy: 0.8631\n",
            "Epoch 73/111\n",
            "250/250 [==============================] - 0s 1ms/step - loss: 0.3319 - accuracy: 0.8654\n",
            "Epoch 74/111\n",
            "250/250 [==============================] - 0s 1ms/step - loss: 0.3329 - accuracy: 0.8618\n",
            "Epoch 75/111\n",
            "250/250 [==============================] - 0s 1ms/step - loss: 0.3339 - accuracy: 0.8639\n",
            "Epoch 76/111\n",
            "250/250 [==============================] - 0s 1ms/step - loss: 0.3423 - accuracy: 0.8606\n",
            "Epoch 77/111\n",
            "250/250 [==============================] - 0s 1ms/step - loss: 0.3341 - accuracy: 0.8624\n",
            "Epoch 78/111\n",
            "250/250 [==============================] - 0s 1ms/step - loss: 0.3240 - accuracy: 0.8703\n",
            "Epoch 79/111\n",
            "250/250 [==============================] - 0s 1ms/step - loss: 0.3328 - accuracy: 0.8632\n",
            "Epoch 80/111\n",
            "250/250 [==============================] - 0s 1ms/step - loss: 0.3386 - accuracy: 0.8629\n",
            "Epoch 81/111\n",
            "250/250 [==============================] - 0s 1ms/step - loss: 0.3291 - accuracy: 0.8630\n",
            "Epoch 82/111\n",
            "250/250 [==============================] - 0s 1ms/step - loss: 0.3328 - accuracy: 0.8682\n",
            "Epoch 83/111\n",
            "250/250 [==============================] - 0s 1ms/step - loss: 0.3324 - accuracy: 0.8627\n",
            "Epoch 84/111\n",
            "250/250 [==============================] - 0s 1ms/step - loss: 0.3355 - accuracy: 0.8616\n",
            "Epoch 85/111\n",
            "250/250 [==============================] - 0s 1ms/step - loss: 0.3372 - accuracy: 0.8626\n",
            "Epoch 86/111\n",
            "250/250 [==============================] - 0s 1ms/step - loss: 0.3231 - accuracy: 0.8676\n",
            "Epoch 87/111\n",
            "250/250 [==============================] - 0s 1ms/step - loss: 0.3385 - accuracy: 0.8618\n",
            "Epoch 88/111\n",
            "250/250 [==============================] - 0s 1ms/step - loss: 0.3286 - accuracy: 0.8653\n",
            "Epoch 89/111\n",
            "250/250 [==============================] - 0s 1ms/step - loss: 0.3391 - accuracy: 0.8607\n",
            "Epoch 90/111\n",
            "250/250 [==============================] - 0s 1ms/step - loss: 0.3291 - accuracy: 0.8640\n",
            "Epoch 91/111\n",
            "250/250 [==============================] - 0s 1ms/step - loss: 0.3399 - accuracy: 0.8595\n",
            "Epoch 92/111\n",
            "250/250 [==============================] - 0s 1ms/step - loss: 0.3281 - accuracy: 0.8661\n",
            "Epoch 93/111\n",
            "250/250 [==============================] - 0s 1ms/step - loss: 0.3285 - accuracy: 0.8703\n",
            "Epoch 94/111\n",
            "250/250 [==============================] - 0s 1ms/step - loss: 0.3431 - accuracy: 0.8605\n",
            "Epoch 95/111\n",
            "250/250 [==============================] - 0s 1ms/step - loss: 0.3320 - accuracy: 0.8656\n",
            "Epoch 96/111\n",
            "250/250 [==============================] - 0s 1ms/step - loss: 0.3370 - accuracy: 0.8664\n",
            "Epoch 97/111\n",
            "250/250 [==============================] - 0s 1ms/step - loss: 0.3378 - accuracy: 0.8608\n",
            "Epoch 98/111\n",
            "250/250 [==============================] - 0s 1ms/step - loss: 0.3455 - accuracy: 0.8606\n",
            "Epoch 99/111\n",
            "250/250 [==============================] - 0s 1ms/step - loss: 0.3307 - accuracy: 0.8637\n",
            "Epoch 100/111\n",
            "250/250 [==============================] - 0s 1ms/step - loss: 0.3300 - accuracy: 0.8646\n",
            "Epoch 101/111\n",
            "250/250 [==============================] - 0s 1ms/step - loss: 0.3173 - accuracy: 0.8751\n",
            "Epoch 102/111\n",
            "250/250 [==============================] - 0s 1ms/step - loss: 0.3210 - accuracy: 0.8687\n",
            "Epoch 103/111\n",
            "250/250 [==============================] - 0s 1ms/step - loss: 0.3252 - accuracy: 0.8682\n",
            "Epoch 104/111\n",
            "250/250 [==============================] - 0s 1ms/step - loss: 0.3359 - accuracy: 0.8587\n",
            "Epoch 105/111\n",
            "250/250 [==============================] - 0s 1ms/step - loss: 0.3243 - accuracy: 0.8683\n",
            "Epoch 106/111\n",
            "250/250 [==============================] - 0s 1ms/step - loss: 0.3285 - accuracy: 0.8692\n",
            "Epoch 107/111\n",
            "250/250 [==============================] - 0s 1ms/step - loss: 0.3395 - accuracy: 0.8582\n",
            "Epoch 108/111\n",
            "250/250 [==============================] - 0s 1ms/step - loss: 0.3313 - accuracy: 0.8648\n",
            "Epoch 109/111\n",
            "250/250 [==============================] - 0s 1ms/step - loss: 0.3423 - accuracy: 0.8560\n",
            "Epoch 110/111\n",
            "250/250 [==============================] - 0s 1ms/step - loss: 0.3246 - accuracy: 0.8664\n",
            "Epoch 111/111\n",
            "250/250 [==============================] - 0s 1ms/step - loss: 0.3389 - accuracy: 0.8607\n"
          ],
          "name": "stdout"
        },
        {
          "output_type": "execute_result",
          "data": {
            "text/plain": [
              "<tensorflow.python.keras.callbacks.History at 0x7f5c515d0710>"
            ]
          },
          "metadata": {
            "tags": []
          },
          "execution_count": 71
        }
      ]
    },
    {
      "cell_type": "markdown",
      "metadata": {
        "id": "tJj5k2MxZga3"
      },
      "source": [
        "## Part 4 - Making the predictions and evaluating the model"
      ]
    },
    {
      "cell_type": "markdown",
      "metadata": {
        "id": "84QFoqGYeXHL"
      },
      "source": [
        "### Predicting the result of a single observation"
      ]
    },
    {
      "cell_type": "markdown",
      "metadata": {
        "id": "CGRo3eacgDdC"
      },
      "source": [
        "\n",
        "\n",
        "Using our ANN model to predict if the customer with the following informations will leave the bank: \n",
        "\n",
        "Geography: France\n",
        "\n",
        "Credit Score: 600\n",
        "\n",
        "Gender: Male\n",
        "\n",
        "Age: 40 years old\n",
        "\n",
        "Tenure: 3 years\n",
        "\n",
        "Balance: \\$ 60000\n",
        "\n",
        "Number of Products: 2\n",
        "\n",
        "Does this customer have a credit card? Yes\n",
        "\n",
        "Is this customer an Active Member: Yes\n",
        "\n",
        "Estimated Salary: \\$ 50000\n",
        "\n",
        "So, should we say goodbye to that customer?"
      ]
    },
    {
      "cell_type": "code",
      "metadata": {
        "colab": {
          "base_uri": "https://localhost:8080/"
        },
        "id": "JHSmqPprZayX",
        "outputId": "c5006178-f23d-4432-9aad-198f8867b2f6"
      },
      "source": [
        "#Passing the data to predict as 2-D array is necessary.Above details are converted to model understandable data as passed through predict() method.\r\n",
        "print(ann.predict(sc.transform([[1, 0, 0, 600, 1, 40, 3, 60000, 2, 1, 1, 50000]])) > 0.5)"
      ],
      "execution_count": null,
      "outputs": [
        {
          "output_type": "stream",
          "text": [
            "[[False]]\n"
          ],
          "name": "stdout"
        }
      ]
    },
    {
      "cell_type": "markdown",
      "metadata": {
        "id": "ZhU1LTgPg-kH"
      },
      "source": [
        "**Solution**"
      ]
    },
    {
      "cell_type": "markdown",
      "metadata": {
        "id": "wGjx94g2n7OV"
      },
      "source": [
        "Therefore, our ANN model predicts that this customer stays in the bank!\n",
        "\n",
        "**Important note 1:** Notice that the values of the features were all input in a double pair of square brackets. That's because the \"predict\" method always expects a 2D array as the format of its inputs. And putting our values into a double pair of square brackets makes the input exactly a 2D array.\n",
        "\n",
        "**Important note 2:** Notice also that the \"France\" country was not input as a string in the last column but as \"1, 0, 0\" in the first three columns. That's because of course the predict method expects the one-hot-encoded values of the state, and as we see in the first row of the matrix of features X, \"France\" was encoded as \"1, 0, 0\". And be careful to include these values in the first three columns, because the dummy variables are always created in the first columns."
      ]
    },
    {
      "cell_type": "markdown",
      "metadata": {
        "id": "u7yx47jPZt11"
      },
      "source": [
        "### Predicting the Test set results"
      ]
    },
    {
      "cell_type": "code",
      "metadata": {
        "colab": {
          "base_uri": "https://localhost:8080/"
        },
        "id": "wSytbSumbJrj",
        "outputId": "23ce1fb1-c8f6-4f2a-c361-6391238c8454"
      },
      "source": [
        "#Using the predict() for the test data and converting them into yes/no category based on their probability\r\n",
        "y_pred=ann.predict(x_test)\r\n",
        "y_pred = (y_pred > 0.5)\r\n",
        "print(np.concatenate((y_pred.reshape(len(y_pred),1),y_test.reshape(len(y_test),1)),1))"
      ],
      "execution_count": null,
      "outputs": [
        {
          "output_type": "stream",
          "text": [
            "[[0 0]\n",
            " [0 1]\n",
            " [0 0]\n",
            " ...\n",
            " [0 0]\n",
            " [0 0]\n",
            " [0 0]]\n"
          ],
          "name": "stdout"
        }
      ]
    },
    {
      "cell_type": "markdown",
      "metadata": {
        "id": "o0oyfLWoaEGw"
      },
      "source": [
        "### Making the Confusion Matrix"
      ]
    },
    {
      "cell_type": "code",
      "metadata": {
        "colab": {
          "base_uri": "https://localhost:8080/"
        },
        "id": "Fwp2N5zicW8V",
        "outputId": "aabac951-8709-452d-c867-52e8b45e8acb"
      },
      "source": [
        "#Building the confusion matrix from predefined method from sklearn library\r\n",
        "from sklearn.metrics import confusion_matrix,accuracy_score\r\n",
        "cm=confusion_matrix(y_test,y_pred)\r\n",
        "print(cm)\r\n",
        "accuracy_score(y_test,y_pred)"
      ],
      "execution_count": null,
      "outputs": [
        {
          "output_type": "stream",
          "text": [
            "[[1530   65]\n",
            " [ 201  204]]\n"
          ],
          "name": "stdout"
        },
        {
          "output_type": "execute_result",
          "data": {
            "text/plain": [
              "0.867"
            ]
          },
          "metadata": {
            "tags": []
          },
          "execution_count": 79
        }
      ]
    }
  ]
}